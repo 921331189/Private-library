{
 "cells": [
  {
   "cell_type": "code",
   "execution_count": 46,
   "metadata": {},
   "outputs": [
    {
     "name": "stdout",
     "output_type": "stream",
     "text": [
      "     “那倒不要说，像她们这样人走出去，是同他们外头平常看见的做事的人有点两样！有点两样的！”\n",
      "\n",
      "     “那时候要跟着一道去就好了！”他向来不大注意女人穿的衣服的，但是现在特地看了蜜秋儿太太一眼。她已经把衣服穿好了，是一件枣红色的，但是蜜秋儿太太一向穿惯了黑，她的个性里大量吸入了一般守礼谨严的寡妇们的黑沉沉的气氛，随便她穿什么颜色的衣服，总似乎是一身黑，胖虽胖，依然楚楚可怜。她打开了花盒子，哟了一声道：“他跟谁跳来着？”四奶奶抢先答道：“还有谁，还不是你那六姑！我们诗礼人家，不准学跳舞的，就只她结婚之后跟她那不成材的姑爷学会了这一手！好不害臊，人家问你，说不会跳不就结了？\n"
     ]
    }
   ],
   "source": [
    "# -*- coding:utf-8 -*-\n",
    "\n",
    "import jieba.posseg as pseg\n",
    "from collections import Counter, defaultdict\n",
    "import jieba\n",
    "import random\n",
    "\n",
    "\n",
    "def generate(lm):\n",
    "    x = random.random()\n",
    "    s_ = 0.0\n",
    "    for word, prob in lm.items():\n",
    "        s_ += prob\n",
    "        if s_ >= x:\n",
    "            return word\n",
    "\n",
    "# f为所读取的文件；ngram 为gram个数；N为生成句子的词数\n",
    "def ngram_lm(f, ngram=4, N=30):\n",
    "    # 设置行的计数，在超过一定限值之后停止文件读取\n",
    "    line_no = 0\n",
    "    max_line = 6000\n",
    "\n",
    "    # dct用于保存语ngram语言模型的概率\n",
    "    # P(w_i|w_1, w_2, ... w_(i-1)) = P(w_i) * P(w_i|w_1, w_2, ... w_(ngram-1))\n",
    "    # 键为context，即w_1, w_2, ... w_(ngram-1)组成的tuple；值为在context的条件下w_i的概率分布\n",
    "    dct = defaultdict(Counter)\n",
    "\n",
    "    # 对words的左侧进行填充（padding）\n",
    "    start_token = \" \"\n",
    "    # 逐行读取文件，防止一次读取造成内存不足\n",
    "    for line in open(f):\n",
    "        line_no += 1\n",
    "        if line_no >= max_line:\n",
    "            break\n",
    "        # 开始分词\n",
    "        words = list(jieba.cut(line.strip()))\n",
    "        # 左侧用(ngram - 1)个start_token进行填充（padding）\n",
    "        padded_words = [start_token] * (ngram - 1) + words\n",
    "\n",
    "        # context 是 w_1, w_2, ... w_(ngram-1)\n",
    "        # word 是各种可能的 w_i\n",
    "        for i in range(len(words)):\n",
    "            context = padded_words[i: i+ngram-1]\n",
    "            word = words[i]\n",
    "            # list 不能作为key，将其转换为tuple\n",
    "            dct[tuple(context)][word] += 1\n",
    "\n",
    "    # 将dct中Counter的计数转换为概率\n",
    "    for context, counter in dct.items():\n",
    "        s = float(sum(counter.values()))\n",
    "        for word in counter.keys():\n",
    "            counter[word] /= s\n",
    "\n",
    "    # 生成N个词ngram；句首为 ngram-1 个 \"<s>\"\n",
    "    l = [start_token] * (ngram - 1)\n",
    "    for i in range(N):\n",
    "        context = l[-ngram+1:]\n",
    "        counter = dct[tuple(context)]\n",
    "        # 如果上下文有相应的w_i\n",
    "        if counter:\n",
    "            word = generate(counter)\n",
    "            l.append(word)\n",
    "        # 如果没有相应的下文，则另起一段，从\"<s>\" 重新开始\n",
    "        else:\n",
    "            l.append(\"\\n\\n\")\n",
    "            l += [start_token] * (ngram - 1)\n",
    "\n",
    "    sentence = \"\".join(l)\n",
    "    return sentence\n",
    "\n",
    "print(ngram_lm(f=\"ailing.txt\", ngram=6, N=200))"
   ]
  },
  {
   "cell_type": "code",
   "execution_count": null,
   "metadata": {
    "collapsed": true
   },
   "outputs": [],
   "source": []
  }
 ],
 "metadata": {
  "kernelspec": {
   "display_name": "Python 3",
   "language": "python",
   "name": "python3"
  },
  "language_info": {
   "codemirror_mode": {
    "name": "ipython",
    "version": 3
   },
   "file_extension": ".py",
   "mimetype": "text/x-python",
   "name": "python",
   "nbconvert_exporter": "python",
   "pygments_lexer": "ipython3",
   "version": "3.6.2"
  },
  "toc": {
   "nav_menu": {},
   "number_sections": true,
   "sideBar": true,
   "skip_h1_title": false,
   "toc_cell": false,
   "toc_position": {},
   "toc_section_display": "block",
   "toc_window_display": false
  }
 },
 "nbformat": 4,
 "nbformat_minor": 2
}
